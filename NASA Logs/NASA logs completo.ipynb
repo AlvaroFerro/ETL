{
 "cells": [
  {
   "cell_type": "code",
   "execution_count": 1,
   "metadata": {
    "collapsed": false
   },
   "outputs": [],
   "source": [
    "from pyspark import SparkContext\n",
    "sc = SparkContext()"
   ]
  },
  {
   "cell_type": "code",
   "execution_count": 17,
   "metadata": {
    "collapsed": false
   },
   "outputs": [],
   "source": [
    "import urllib\n",
    "f = urllib.urlretrieve(\"https://www.dropbox.com/s/73wr8xb5s6fdj7g/apache.access.log.PROJECT?dl=1\", \"apache.access.log.PROJECT\")"
   ]
  },
  {
   "cell_type": "code",
   "execution_count": 2,
   "metadata": {
    "collapsed": true
   },
   "outputs": [],
   "source": [
    "datos = \"./apache.access.log.PROJECT\"\n",
    "datos_raw = sc.textFile(datos)"
   ]
  },
  {
   "cell_type": "code",
   "execution_count": 19,
   "metadata": {
    "collapsed": false
   },
   "outputs": [
    {
     "data": {
      "text/plain": [
       "1043177"
      ]
     },
     "execution_count": 19,
     "metadata": {},
     "output_type": "execute_result"
    }
   ],
   "source": [
    "datos_raw.count()"
   ]
  },
  {
   "cell_type": "code",
   "execution_count": 20,
   "metadata": {
    "collapsed": false
   },
   "outputs": [
    {
     "data": {
      "text/plain": [
       "[u'in24.inetnebr.com - - [01/Aug/1995:00:00:01 -0400] \"GET /shuttle/missions/sts-68/news/sts-68-mcc-05.txt HTTP/1.0\" 200 1839',\n",
       " u'uplherc.upl.com - - [01/Aug/1995:00:00:07 -0400] \"GET / HTTP/1.0\" 304 0',\n",
       " u'uplherc.upl.com - - [01/Aug/1995:00:00:08 -0400] \"GET /images/ksclogo-medium.gif HTTP/1.0\" 304 0',\n",
       " u'uplherc.upl.com - - [01/Aug/1995:00:00:08 -0400] \"GET /images/MOSAIC-logosmall.gif HTTP/1.0\" 304 0',\n",
       " u'uplherc.upl.com - - [01/Aug/1995:00:00:08 -0400] \"GET /images/USA-logosmall.gif HTTP/1.0\" 304 0']"
      ]
     },
     "execution_count": 20,
     "metadata": {},
     "output_type": "execute_result"
    }
   ],
   "source": [
    "datos_raw.take(5)"
   ]
  },
  {
   "cell_type": "code",
   "execution_count": 3,
   "metadata": {
    "collapsed": false
   },
   "outputs": [
    {
     "name": "stdout",
     "output_type": "stream",
     "text": [
      "[u'in24.inetnebr.com']\n",
      "[u'0']\n",
      "[u'0']\n",
      "[u'[01/Aug/1995:00:00:01']\n",
      "[u'00400]']\n",
      "[u'\"GET']\n",
      "[u'/shuttle/missions/sts-68/news/sts-68-mcc-05.txt']\n",
      "[u'HTTP/1.0\"']\n",
      "[u'200']\n",
      "[u'1839']\n"
     ]
    }
   ],
   "source": [
    "#Vamos a tratar los datos previamente\n",
    "datos_tratados = datos_raw.map(lambda x: x.replace(\" -\", ' 0'))\\\n",
    "    .map(lambda x: x.split(\" \"))\n",
    "\n",
    "#Vamos a recorrer los datos imprimiendo cada columna para ver si está todo correcto\n",
    "for i in range(0,10):\n",
    "    datos_test = datos_tratados.map(lambda x: x[i])\n",
    "    print(datos_test.take(1))\n",
    "\n",
    "#0 es la url\n",
    "#1 no es nada\n",
    "#2 no es nada\n",
    "#3 es la fecha - Habria que parsear con []\n",
    "#4 ni idea, pero creo que nada\n",
    "#5 protocolo de respuesta: GET/POST\n",
    "#6 url de archivo accedido\n",
    "#7 HTTP version\n",
    "#8 HTTP status - Access through -2\n",
    "#9 Size - Access through -1   "
   ]
  },
  {
   "cell_type": "code",
   "execution_count": 247,
   "metadata": {
    "collapsed": false
   },
   "outputs": [
    {
     "name": "stdout",
     "output_type": "stream",
     "text": [
      "3421948\n",
      "0\n",
      "17531.5557024\n"
     ]
    }
   ],
   "source": [
    "#### EJERCICIO 1 ######\n",
    "\n",
    "#Podemos transformar los datos aplicando map al dataset para obtener solo la columna\n",
    "#deseada\n",
    "\n",
    "datos_split = datos_tratados.map(lambda x: int(x[-1]))\n",
    "print(datos_split.max())\n",
    "print(datos_split.min())\n",
    "print(datos_split.mean())"
   ]
  },
  {
   "cell_type": "code",
   "execution_count": 23,
   "metadata": {
    "collapsed": false
   },
   "outputs": [
    {
     "data": {
      "text/plain": [
       "[(200, 940847),\n",
       " (302, 16244),\n",
       " (304, 79824),\n",
       " (403, 58),\n",
       " (404, 6185),\n",
       " (500, 2),\n",
       " (501, 17)]"
      ]
     },
     "execution_count": 23,
     "metadata": {},
     "output_type": "execute_result"
    }
   ],
   "source": [
    "####### EJERCICIO 2 #########\n",
    "### Numero de peticiones de cada codigo de respuesta\n",
    "\n",
    "from operator import add\n",
    "response_code = datos_tratados.map(lambda y: (int(y[-2]), 1))\n",
    "\n",
    "#Muestra una lista de tuplas con valor(statusCode, count)\n",
    "response_code.reduceByKey(add).sortByKey().collect()\n"
   ]
  },
  {
   "cell_type": "code",
   "execution_count": 24,
   "metadata": {
    "collapsed": false
   },
   "outputs": [
    {
     "data": {
      "text/plain": [
       "[(u'***.novo.dk', 16),\n",
       " (u'03-dynamic-c.wokingham.luna.net', 39),\n",
       " (u'05-dynamic-c.wokingham.luna.net', 25),\n",
       " (u'0875pr3e.pro.rpslmc.edu', 16),\n",
       " (u'1.ts1.mnet.medstroms.se', 32),\n",
       " (u'10.ts2.mnet.medstroms.se', 15),\n",
       " (u'101.irri.cgiar.org', 17),\n",
       " (u'1032015.ksc.nasa.gov', 90),\n",
       " (u'10forward.ppp.america.com', 18),\n",
       " (u'10md423.uni-duisburg.de', 39),\n",
       " (u'118.32.med.umich.edu', 15),\n",
       " (u'12.ts2.mnet.medstroms.se', 25),\n",
       " (u'120.33.med.umich.edu', 14),\n",
       " (u'128.100.180.37', 15),\n",
       " (u'128.100.183.252', 13),\n",
       " (u'128.100.183.253', 36),\n",
       " (u'128.100.191.43', 31),\n",
       " (u'128.100.197.90', 16),\n",
       " (u'128.100.8.177', 40),\n",
       " (u'128.101.13.25', 15)]"
      ]
     },
     "execution_count": 24,
     "metadata": {},
     "output_type": "execute_result"
    }
   ],
   "source": [
    "##### EJERCICIO 3 ######\n",
    "# Mostrar 20 hosts que han sido visitados mas de 10 veces\n",
    "hosts = datos_tratados.map(lambda y: (y[0], 1))\n",
    "agrupados = hosts.reduceByKey(add)\\\n",
    "    .sortByKey()\\\n",
    "    .filter(lambda x: x[1] > 10)\\\n",
    "    .take(20)\n",
    "\n",
    "#Muestra una lista de tuplas con valor(host, count)\n",
    "agrupados"
   ]
  },
  {
   "cell_type": "code",
   "execution_count": 228,
   "metadata": {
    "collapsed": false
   },
   "outputs": [
    {
     "data": {
      "text/plain": [
       "[(u'/images/NASA-logosmall.gif', 59666),\n",
       " (u'/images/KSC-logosmall.gif', 50420),\n",
       " (u'/images/MOSAIC-logosmall.gif', 43831),\n",
       " (u'/images/USA-logosmall.gif', 43604),\n",
       " (u'/images/WORLD-logosmall.gif', 43217),\n",
       " (u'/images/ksclogo-medium.gif', 41267),\n",
       " (u'/ksc.html', 28536),\n",
       " (u'/history/apollo/images/apollo-logo1.gif', 26766),\n",
       " (u'/images/launch-logo.gif', 24742),\n",
       " (u'/', 20175)]"
      ]
     },
     "execution_count": 228,
     "metadata": {},
     "output_type": "execute_result"
    }
   ],
   "source": [
    "##### EJERCICIO 4 #####\n",
    "# Mostrar los 10 endpoints mas visitados\n",
    "endpoint = datos_tratados.map(lambda y: (y[6], 1))\n",
    "endpoint_agr = endpoint.reduceByKey(add)\\\n",
    "    .sortBy(lambda x: x[1], False)\\\n",
    "    .take(10)\n",
    "\n",
    "#Muestra una lista de tuplas con valor(endpoint, count)\n",
    "endpoint_agr\n"
   ]
  },
  {
   "cell_type": "code",
   "execution_count": 229,
   "metadata": {
    "collapsed": false
   },
   "outputs": [
    {
     "data": {
      "text/plain": [
       "[(u'/ksc.html', u'501'),\n",
       " (u'/ksc.html', u'501'),\n",
       " (u'/ksc.html', u'501'),\n",
       " (u'/ksc.html', u'501'),\n",
       " (u'/ksc.html', u'501'),\n",
       " (u'/images/getstats.gif', u'501'),\n",
       " (u'/ksc.html', u'501'),\n",
       " (u'/shuttle/missions/51-i/51-i-patch-small.gif', u'501'),\n",
       " (u'/shuttle/missions/sts-45/sts-45-patch-small.gif', u'501'),\n",
       " (u'/shuttle/missions/sts-6/sts-6-patch-small.gif', u'501')]"
      ]
     },
     "execution_count": 229,
     "metadata": {},
     "output_type": "execute_result"
    }
   ],
   "source": [
    "##### EJERCICIO 5 ######\n",
    "# Mostrar 10 endpoints que NO tengan codigo 200\n",
    "endpointNO = datos_tratados.map(lambda y: (y[6], y[-2]))\n",
    "endpointNO_agr = endpointNO.sortBy(lambda x: x[1], False)\\\n",
    "    .filter(lambda x: x[1] != 200)\\\n",
    "    .take(10)\n",
    "\n",
    "#Muestra una lista de tuplas con valor(endpoint, statusCode)\n",
    "#Con la condicion del status code distinto de 200\n",
    "endpointNO_agr\n"
   ]
  },
  {
   "cell_type": "code",
   "execution_count": 230,
   "metadata": {
    "collapsed": false
   },
   "outputs": [
    {
     "data": {
      "text/plain": [
       "54507"
      ]
     },
     "execution_count": 230,
     "metadata": {},
     "output_type": "execute_result"
    }
   ],
   "source": [
    "##### EJERCICIO 6 ######\n",
    "# Calcular el numero de hosts distintos\n",
    "\n",
    "hosts_distinct = datos_tratados\\\n",
    "    .map(lambda y: y[0]).distinct().count()\n",
    "\n",
    "#Muestra un integer con el numero de hosts distintos\n",
    "hosts_distinct"
   ]
  },
  {
   "cell_type": "code",
   "execution_count": 5,
   "metadata": {
    "collapsed": true
   },
   "outputs": [],
   "source": [
    "from pyspark.sql import Row, SQLContext\n",
    "from pyspark.sql.functions import *\n",
    "sqlContext = SQLContext(sc)"
   ]
  },
  {
   "cell_type": "code",
   "execution_count": 6,
   "metadata": {
    "collapsed": false
   },
   "outputs": [
    {
     "name": "stdout",
     "output_type": "stream",
     "text": [
      "+-----------+--------------+\n",
      "|Dia del mes|Host distintos|\n",
      "+-----------+--------------+\n",
      "|          1|          2582|\n",
      "|          3|          3222|\n",
      "|          4|          4190|\n",
      "|          5|          2502|\n",
      "|          6|          2537|\n",
      "|          7|          4106|\n",
      "|          8|          4406|\n",
      "|          9|          4317|\n",
      "|         10|          4523|\n",
      "|         11|          4346|\n",
      "|         12|          2864|\n",
      "|         13|          2650|\n",
      "|         14|          4454|\n",
      "|         15|          4214|\n",
      "|         16|          4340|\n",
      "|         17|          4385|\n",
      "|         18|          4168|\n",
      "|         19|          2550|\n",
      "|         20|          2560|\n",
      "|         21|          4134|\n",
      "+-----------+--------------+\n",
      "only showing top 20 rows\n",
      "\n"
     ]
    }
   ],
   "source": [
    "##### EJERCICIO 7 #####\n",
    "# Calcular el numero de host unicos cada dia\n",
    "\n",
    "row_data = datos_tratados.map(lambda p: Row(\n",
    "    host = p[0], \n",
    "    empty_first = int(p[1]),\n",
    "    empty_second = p[2],\n",
    "    date = p[3],\n",
    "    protocol = p[4],\n",
    "    endpoint = p[6],\n",
    "    version = p[7],\n",
    "    status_Code = int(p[-2]),\n",
    "    size = p[-1]\n",
    "    )\n",
    ")\n",
    "\n",
    "interactions_df = sqlContext.createDataFrame(row_data)\n",
    "\n",
    "newdf = interactions_df.withColumn('date', regexp_replace('date', '\\[', ''))\n",
    "newdf2 = newdf.withColumn('date', regexp_replace('date', 'Aug', '08'))\n",
    "\n",
    "newdf3 = newdf2.select(from_unixtime(unix_timestamp('date', 'dd/MM/yyyy:hh:mm:ss')).alias('date'), 'host')\n",
    "\n",
    "newdf4 = newdf3.na.fill(0)\n",
    "\n",
    "#Muestra los host distintos de cada día del mes de Agosto\n",
    "newdf4.groupby(dayofmonth(\"date\")\\\n",
    "        .alias(\"Dia del mes\"))\\\n",
    "        .agg(countDistinct('host').alias('Host distintos'))\\\n",
    "        .sort('Dia del mes')\\\n",
    "        .show()"
   ]
  },
  {
   "cell_type": "code",
   "execution_count": 7,
   "metadata": {
    "collapsed": false
   },
   "outputs": [
    {
     "name": "stdout",
     "output_type": "stream",
     "text": [
      "+----------+-----------------------+\n",
      "|      Date|Peticiones_diarias_host|\n",
      "+----------+-----------------------+\n",
      "|1995-08-01|     13.166537567776917|\n",
      "|1995-08-03|     12.845127250155183|\n",
      "|1995-08-04|     14.213365155131266|\n",
      "|1995-08-05|     12.745003996802557|\n",
      "|1995-08-06|     12.777296018919984|\n",
      "|1995-08-07|     13.968582562104238|\n",
      "|1995-08-08|     13.650022696323196|\n",
      "|1995-08-09|      14.00440120454019|\n",
      "|1995-08-10|     13.540791510059695|\n",
      "|1995-08-11|     14.091578462954441|\n",
      "+----------+-----------------------+\n",
      "only showing top 10 rows\n",
      "\n"
     ]
    }
   ],
   "source": [
    "##### EJERCICIO 8 #####\n",
    "# Calcular la media de peticiones diarias por host\n",
    "\n",
    "data_frame = newdf4.withColumn(\"month\", month(col(\"date\"))).\\\n",
    "                                   withColumn(\"DayOfmonth\", dayofmonth(col(\"date\")))\n",
    "data_frame.createOrReplaceTempView('data_frame')\n",
    "sqlContext.sql(\"SELECT DATE(date) Date, COUNT(host)/COUNT(DISTINCT host)\\\n",
    "                AS Peticiones_diarias_host FROM data_frame GROUP BY  DATE(date) ORDER BY DATE(date) ASC\").show(n = 10)"
   ]
  },
  {
   "cell_type": "code",
   "execution_count": 232,
   "metadata": {
    "collapsed": false
   },
   "outputs": [
    {
     "data": {
      "text/plain": [
       "[(u'/msfe/astro_home.html', 404),\n",
       " (u'/space.pub.gif', 404),\n",
       " (u'/shuttle/missions/missions,html', 404),\n",
       " (u'/facilities/rss.gif', 404),\n",
       " (u'/shuttle/technology/images/sts-comm.jpg', 404),\n",
       " (u'/history/appollo/apollo-13', 404),\n",
       " (u'/shuttle/missions/sts-67/sts-67-patch-large.gif', 404),\n",
       " (u'/hmhome.hmtl', 404),\n",
       " (u'/images/NASAlogo-small.gif', 404),\n",
       " (u'/history/apollo/aplool-13/apollo-13.html', 404),\n",
       " (u'/review.com/index.html', 404),\n",
       " (u'/software/winvn/winwn.html', 404),\n",
       " (u'/missions/missions', 404),\n",
       " (u'/hisorty/history.html', 404),\n",
       " (u'/welcome/html', 404),\n",
       " (u'/shuttle/news/sci.space.news/1295', 404),\n",
       " (u'/missions/51-l', 404),\n",
       " (u'/history/apollo/thumb/igneous.gif', 404),\n",
       " (u'/images/School05.jpg', 404),\n",
       " (u'/pub/wiinvn/win3/', 404),\n",
       " (u'/history/apollo/apollo-2/apollo-2-info.html', 404),\n",
       " (u'/shuttle/technology/sts-newsref/stsre', 404),\n",
       " (u'/shuttle/countdown/images/griffin1.gif', 404),\n",
       " (u'/shuttle/technology/sts-newsref/sts_asm.html#srb_mod_nozzle', 404),\n",
       " (u'/shuttle/missions/sts-70/sts-70-patch-small', 404),\n",
       " (u'/software/winvn/winvm.html', 404),\n",
       " (u'/software/winvn/winvn.htmlgeneral', 404),\n",
       " (u'/history/gemini/gemini-xii/gemini-xii-patch-small.jpg', 404),\n",
       " (u'/shuttle/mission/sts-69/mission-sts-69.html', 404),\n",
       " (u'/shuttle/technology/sts-newsref/sts-toc.html', 404),\n",
       " (u'/shuttle/missions/missions.hmtl', 404),\n",
       " (u'/apod/lib/glossary.html', 404),\n",
       " (u'/shuttle/technology/sts-newref/stsref-toc.html', 404),\n",
       " (u'/software/winvn/winvnhtml', 404),\n",
       " (u'/shuttle/missions/movies/', 404),\n",
       " (u'/i', 404),\n",
       " (u'wais://wais.oit.unc.edu:210/recipes', 404),\n",
       " (u'/history/index.html', 404),\n",
       " (u'/shuttle/sts-69/countdown.html', 404),\n",
       " (u'/shuttle/mission/sts-62/missio', 404)]"
      ]
     },
     "execution_count": 232,
     "metadata": {},
     "output_type": "execute_result"
    }
   ],
   "source": [
    "##### EJERCICIO 9 #####\n",
    "# Mostrar una lista de 40 endpoints distintos que tiran 404\n",
    "\n",
    "endpoint_error = datos_tratados.map(lambda y: (y[6], int(y[-2])))\n",
    "endpointerror_agr = endpoint_error.reduceByKey(add)\\\n",
    "    .sortBy(lambda x: x[1], False)\\\n",
    "    .filter(lambda x: x[1] == 404)\\\n",
    "    .distinct()\\\n",
    "    .take(40)\n",
    "\n",
    "#Muestra una lista de tuplas con valor(endpoint, statusCode)\n",
    "endpointerror_agr\n"
   ]
  },
  {
   "cell_type": "code",
   "execution_count": 234,
   "metadata": {
    "collapsed": false
   },
   "outputs": [
    {
     "data": {
      "text/plain": [
       "[(u'/pub/winvn/readme.txt', 633),\n",
       " (u'/pub/winvn/release.txt', 494),\n",
       " (u'/shuttle/missions/STS-69/mission-STS-69.html', 430),\n",
       " (u'/images/nasa-logo.gif', 319),\n",
       " (u'/elv/DELTA/uncons.htm', 178),\n",
       " (u'/shuttle/missions/sts-68/ksc-upclose.gif', 154),\n",
       " (u'/history/apollo/sa-1/sa-1-patch-small.gif', 146),\n",
       " (u'/images/crawlerway-logo.gif', 120),\n",
       " (u'/://spacelink.msfc.nasa.gov', 117),\n",
       " (u'/history/apollo/pad-abort-test-1/pad-abort-test-1-patch-small.gif', 100),\n",
       " (u'/history/apollo/a-001/a-001-patch-small.gif', 97),\n",
       " (u'/images/Nasa-logo.gif', 85),\n",
       " (u'/shuttle/resources/orbiters/atlantis.gif', 63),\n",
       " (u'/history/apollo/images/little-joe.jpg', 62),\n",
       " (u'/images/lf-logo.gif', 59),\n",
       " (u'/shuttle/resources/orbiters/discovery.gif', 56),\n",
       " (u'/shuttle/resources/orbiters/challenger.gif', 54),\n",
       " (u'/robots.txt', 53),\n",
       " (u'/elv/new01.gif>', 43),\n",
       " (u'/history/apollo/pad-abort-test-2/pad-abort-test-2-patch-small.gif', 38),\n",
       " (u'/pub', 36),\n",
       " (u'/pub/', 36),\n",
       " (u'/history/apollo/sa-2/sa-2-patch-small.gif', 35),\n",
       " (u'/history/apollo/sa-5/sa-5-patch-small.gif', 32),\n",
       " (u'/software/winvn/winvn.html.', 31)]"
      ]
     },
     "execution_count": 234,
     "metadata": {},
     "output_type": "execute_result"
    }
   ],
   "source": [
    "##### EJERCICIO 10 #####\n",
    "# Top 25 endpoints que más 404 tiran\n",
    "\n",
    "#Necesitamos solo el status code 404, el endpoint y un contador para agrupar dentro de la tupla\n",
    "endp_filtrado = datos_tratados.filter(lambda x: int(x[-2]) == 404)\n",
    "\n",
    "endpoint_top_error = endp_filtrado.map(lambda x: (x[6], 1))\n",
    "endpointtoperror_agr = endpoint_top_error.reduceByKey(add)\\\n",
    "    .sortBy(lambda x: x[1], False)\\\n",
    "    .take(25)\n",
    "\n",
    "endpointtoperror_agr"
   ]
  },
  {
   "cell_type": "code",
   "execution_count": 8,
   "metadata": {
    "collapsed": false
   },
   "outputs": [
    {
     "name": "stdout",
     "output_type": "stream",
     "text": [
      "+----------------+-----+\n",
      "|dayofmonth(date)|count|\n",
      "+----------------+-----+\n",
      "|               7|  532|\n",
      "|               8|  381|\n",
      "|               6|  372|\n",
      "|               4|  346|\n",
      "|              15|  326|\n",
      "+----------------+-----+\n",
      "only showing top 5 rows\n",
      "\n"
     ]
    }
   ],
   "source": [
    "##### EJERCICIO 11 #####\n",
    "# Top 5 días que generaron código de respuesta 404\n",
    "newdf5 = newdf2.select(from_unixtime(unix_timestamp('date', 'dd/MM/yyyy:hh:mm:ss'))\\\n",
    "                       .alias('date'), 'status_Code')\n",
    "\n",
    "newdf5.filter(newdf5['status_Code'] == 404)\\\n",
    "        .groupBy(dayofmonth('date'))\\\n",
    "        .count()\\\n",
    "        .sort(col(\"count\").desc())\\\n",
    "        .show(n = 5)"
   ]
  }
 ],
 "metadata": {
  "kernelspec": {
   "display_name": "Python 2",
   "language": "python",
   "name": "python2"
  },
  "language_info": {
   "codemirror_mode": {
    "name": "ipython",
    "version": 2
   },
   "file_extension": ".py",
   "mimetype": "text/x-python",
   "name": "python",
   "nbconvert_exporter": "python",
   "pygments_lexer": "ipython2",
   "version": "2.7.12"
  }
 },
 "nbformat": 4,
 "nbformat_minor": 2
}
